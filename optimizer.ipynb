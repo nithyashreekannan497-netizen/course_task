{
 "cells": [
  {
   "cell_type": "code",
   "execution_count": 37,
   "id": "9b9ab087",
   "metadata": {},
   "outputs": [
    {
     "name": "stdout",
     "output_type": "stream",
     "text": [
      "Collecting openpyxl\n",
      "  Downloading openpyxl-3.1.5-py2.py3-none-any.whl.metadata (2.5 kB)\n",
      "Collecting et-xmlfile (from openpyxl)\n",
      "  Downloading et_xmlfile-2.0.0-py3-none-any.whl.metadata (2.7 kB)\n",
      "Downloading openpyxl-3.1.5-py2.py3-none-any.whl (250 kB)\n",
      "Downloading et_xmlfile-2.0.0-py3-none-any.whl (18 kB)\n",
      "Installing collected packages: et-xmlfile, openpyxl\n",
      "\u001b[2K   \u001b[90m━━━━━━━━━━━━━━━━━━━━━━━━━━━━━━━━━━━━━━━━\u001b[0m \u001b[32m2/2\u001b[0m [openpyxl]1/2\u001b[0m [openpyxl]\n",
      "\u001b[1A\u001b[2KSuccessfully installed et-xmlfile-2.0.0 openpyxl-3.1.5\n",
      "Note: you may need to restart the kernel to use updated packages.\n"
     ]
    }
   ],
   "source": [
    "pip install openpyxl\n"
   ]
  },
  {
   "cell_type": "code",
   "execution_count": 1,
   "id": "8f544b0a",
   "metadata": {},
   "outputs": [
    {
     "name": "stderr",
     "output_type": "stream",
     "text": [
      "2025-10-13 09:48:43.397879: I external/local_xla/xla/tsl/cuda/cudart_stub.cc:31] Could not find cuda drivers on your machine, GPU will not be used.\n",
      "2025-10-13 09:48:43.570306: I tensorflow/core/util/port.cc:153] oneDNN custom operations are on. You may see slightly different numerical results due to floating-point round-off errors from different computation orders. To turn them off, set the environment variable `TF_ENABLE_ONEDNN_OPTS=0`.\n",
      "2025-10-13 09:48:48.770977: I tensorflow/core/platform/cpu_feature_guard.cc:210] This TensorFlow binary is optimized to use available CPU instructions in performance-critical operations.\n",
      "To enable the following instructions: AVX2 AVX512F AVX512_VNNI FMA, in other operations, rebuild TensorFlow with the appropriate compiler flags.\n",
      "2025-10-13 09:48:58.032997: I tensorflow/core/util/port.cc:153] oneDNN custom operations are on. You may see slightly different numerical results due to floating-point round-off errors from different computation orders. To turn them off, set the environment variable `TF_ENABLE_ONEDNN_OPTS=0`.\n",
      "2025-10-13 09:48:58.102755: I external/local_xla/xla/tsl/cuda/cudart_stub.cc:31] Could not find cuda drivers on your machine, GPU will not be used.\n"
     ]
    }
   ],
   "source": [
    "import os\n",
    "import numpy as np\n",
    "import pandas as pd\n",
    "from tensorflow.keras.models import Sequential\n",
    "from tensorflow.keras.layers import Conv2D, MaxPooling2D, Flatten, Dense, Dropout\n",
    "from tensorflow.keras.preprocessing.image import load_img, img_to_array\n",
    "from sklearn.metrics import accuracy_score, precision_score, recall_score, f1_score\n",
    "from sklearn.utils import shuffle\n",
    "from tensorflow.keras.optimizers import SGD, RMSprop, Adagrad, Adam\n"
   ]
  },
  {
   "cell_type": "code",
   "execution_count": 3,
   "id": "a1f5d9a5",
   "metadata": {},
   "outputs": [],
   "source": [
    "def load_dataset(folders, label):\n",
    "    images = []\n",
    "    labels = []\n",
    "    for folder in folders:\n",
    "        for file in os.listdir(folder):\n",
    "            if file.lower().endswith(('.jpg', '.png', '.jpeg')):\n",
    "                img_path = os.path.join(folder, file)\n",
    "                img = load_img(img_path, target_size=(28,28), color_mode='grayscale')\n",
    "                arr = img_to_array(img)/255.0\n",
    "                images.append(arr)\n",
    "                labels.append(label)\n",
    "    return images, labels"
   ]
  },
  {
   "cell_type": "code",
   "execution_count": null,
   "id": "0b915d53",
   "metadata": {},
   "outputs": [],
   "source": [
    "\n",
    "background_folders = [\"/home/ubuntu/Downloads/padhai-text-non-text-classification-level-1/level_1_train/level_1/background\"]\n",
    "text_folders = [\n",
    "    \"/home/ubuntu/Downloads/padhai-text-non-text-classification-level-1/level_1_train/level_1/en\",\n",
    "    \"/home/ubuntu/Downloads/padhai-text-non-text-classification-level-1/level_1_train/level_1/hi\",\n",
    "    \"/home/ubuntu/Downloads/padhai-text-non-text-classification-level-1/level_1_train/level_1/ta\"\n",
    "]\n"
   ]
  },
  {
   "cell_type": "code",
   "execution_count": null,
   "id": "7f57963c",
   "metadata": {},
   "outputs": [],
   "source": [
    "from sklearn.model_selection import train_test_split\n",
    "\n",
    "X_bg, y_bg = load_dataset(background_folders, 0)\n",
    "X_txt, y_txt = load_dataset(text_folders, 1)\n",
    "\n",
    "\n",
    "X_total = np.array(X_bg + X_txt)\n",
    "y_total = np.array(y_bg + y_txt)\n",
    "X_total = X_total.reshape(X_total.shape[0], -1)\n",
    "\n",
    "\n",
    "X_train, X_test, y_train, y_test = train_test_split(X_total, y_total, test_size=0.2, random_state=42, shuffle=True)"
   ]
  },
  {
   "cell_type": "code",
   "execution_count": 21,
   "id": "eb0f909e",
   "metadata": {},
   "outputs": [],
   "source": [
    "def build_model(input_dim):\n",
    "    model = Sequential([\n",
    "        Dense(512, activation='relu', input_dim=input_dim),\n",
    "        Dropout(0.3),\n",
    "        Dense(256, activation='relu'),\n",
    "        Dropout(0.3),\n",
    "        Dense(128, activation='relu'),\n",
    "        Dense(1, activation='sigmoid')\n",
    "    ])\n",
    "    return model"
   ]
  },
  {
   "cell_type": "code",
   "execution_count": null,
   "id": "a26fb895",
   "metadata": {},
   "outputs": [],
   "source": [
    "def train_and_evaluate(optimizer, name, epochs=20, batch_size=32):\n",
    "    model = build_model(X_train.shape[1])\n",
    "    model.compile(optimizer=optimizer, loss='binary_crossentropy', metrics=['accuracy'])\n",
    "    \n",
    "    model.fit(X_train, y_train, epochs=epochs, batch_size=batch_size, verbose=0)\n",
    "    \n",
    "    \n",
    "    y_pred = (model.predict(X_test) > 0.5).astype(int).flatten()\n",
    "    \n",
    "\n",
    "    acc = accuracy_score(y_test, y_pred)\n",
    "    prec = precision_score(y_test, y_pred)\n",
    "    rec = recall_score(y_test, y_pred)\n",
    "    f1 = f1_score(y_test, y_pred)\n",
    "    cm = confusion_matrix(y_test, y_pred)\n",
    "    \n",
    "\n",
    "    print(f\"\\nOptimizer: {name}\")\n",
    "    print(f\"Accuracy: {acc:.4f}, Precision: {prec:.4f}, Recall: {rec:.4f}, F1: {f1:.4f}\")\n",
    "    print(\"Confusion Matrix:\")\n",
    "    print(cm)\n",
    "    \n",
    "    \n",
    "    df = pd.DataFrame({\"ImageID\": np.arange(len(y_pred)), \"Prediction\": y_pred})\n",
    "    df.to_excel(f\"predictions_{name}.xlsx\", index=False)\n",
    "    \n",
    "    return {\"Optimizer\": name, \"Accuracy\": acc, \"Precision\": prec, \"Recall\": rec, \"F1\": f1}\n"
   ]
  },
  {
   "cell_type": "code",
   "execution_count": 23,
   "id": "48eecc01",
   "metadata": {},
   "outputs": [],
   "source": [
    "optimizers = [\n",
    "    (SGD(learning_rate=0.01), 'SGD'),\n",
    "    (SGD(learning_rate=0.01, momentum=0.9), 'Momentum'),\n",
    "    (SGD(learning_rate=0.01, momentum=0.9, nesterov=True), 'Nesterov'),\n",
    "    (Adagrad(learning_rate=0.01), 'Adagrad'),\n",
    "    (RMSprop(learning_rate=0.001), 'RMSprop'),\n",
    "    (Adam(learning_rate=0.001), 'Adam')\n",
    "]\n"
   ]
  },
  {
   "cell_type": "code",
   "execution_count": 24,
   "id": "a20a53ca",
   "metadata": {},
   "outputs": [
    {
     "name": "stderr",
     "output_type": "stream",
     "text": [
      "/home/ubuntu/miniconda3/lib/python3.13/site-packages/keras/src/layers/core/dense.py:92: UserWarning: Do not pass an `input_shape`/`input_dim` argument to a layer. When using Sequential models, prefer using an `Input(shape)` object as the first layer in the model instead.\n",
      "  super().__init__(activity_regularizer=activity_regularizer, **kwargs)\n",
      "/home/ubuntu/miniconda3/lib/python3.13/site-packages/tensorflow/python/data/ops/structured_function.py:258: UserWarning: Even though the `tf.config.experimental_run_functions_eagerly` option is set, this option does not apply to tf.data functions. To force eager execution of tf.data functions, please use `tf.data.experimental.enable_debug_mode()`.\n",
      "  warnings.warn(\n"
     ]
    },
    {
     "name": "stdout",
     "output_type": "stream",
     "text": [
      "\u001b[1m6/6\u001b[0m \u001b[32m━━━━━━━━━━━━━━━━━━━━\u001b[0m\u001b[37m\u001b[0m \u001b[1m0s\u001b[0m 12ms/step\n",
      "\n",
      "Optimizer: SGD\n",
      "Accuracy: 0.9888, Precision: 1.0000, Recall: 0.9765, F1: 0.9881\n",
      "Confusion Matrix:\n",
      "[[94  0]\n",
      " [ 2 83]]\n"
     ]
    },
    {
     "name": "stderr",
     "output_type": "stream",
     "text": [
      "/home/ubuntu/miniconda3/lib/python3.13/site-packages/keras/src/layers/core/dense.py:92: UserWarning: Do not pass an `input_shape`/`input_dim` argument to a layer. When using Sequential models, prefer using an `Input(shape)` object as the first layer in the model instead.\n",
      "  super().__init__(activity_regularizer=activity_regularizer, **kwargs)\n",
      "/home/ubuntu/miniconda3/lib/python3.13/site-packages/tensorflow/python/data/ops/structured_function.py:258: UserWarning: Even though the `tf.config.experimental_run_functions_eagerly` option is set, this option does not apply to tf.data functions. To force eager execution of tf.data functions, please use `tf.data.experimental.enable_debug_mode()`.\n",
      "  warnings.warn(\n"
     ]
    },
    {
     "name": "stdout",
     "output_type": "stream",
     "text": [
      "\u001b[1m6/6\u001b[0m \u001b[32m━━━━━━━━━━━━━━━━━━━━\u001b[0m\u001b[37m\u001b[0m \u001b[1m0s\u001b[0m 12ms/step\n",
      "\n",
      "Optimizer: SGD{'momentum': 0.9}\n",
      "Accuracy: 0.9721, Precision: 1.0000, Recall: 0.9412, F1: 0.9697\n",
      "Confusion Matrix:\n",
      "[[94  0]\n",
      " [ 5 80]]\n"
     ]
    },
    {
     "name": "stderr",
     "output_type": "stream",
     "text": [
      "/home/ubuntu/miniconda3/lib/python3.13/site-packages/keras/src/layers/core/dense.py:92: UserWarning: Do not pass an `input_shape`/`input_dim` argument to a layer. When using Sequential models, prefer using an `Input(shape)` object as the first layer in the model instead.\n",
      "  super().__init__(activity_regularizer=activity_regularizer, **kwargs)\n",
      "/home/ubuntu/miniconda3/lib/python3.13/site-packages/tensorflow/python/data/ops/structured_function.py:258: UserWarning: Even though the `tf.config.experimental_run_functions_eagerly` option is set, this option does not apply to tf.data functions. To force eager execution of tf.data functions, please use `tf.data.experimental.enable_debug_mode()`.\n",
      "  warnings.warn(\n"
     ]
    },
    {
     "name": "stdout",
     "output_type": "stream",
     "text": [
      "\u001b[1m6/6\u001b[0m \u001b[32m━━━━━━━━━━━━━━━━━━━━\u001b[0m\u001b[37m\u001b[0m \u001b[1m0s\u001b[0m 11ms/step\n",
      "\n",
      "Optimizer: SGD{'momentum': 0.9, 'nesterov': True}\n",
      "Accuracy: 0.9944, Precision: 1.0000, Recall: 0.9882, F1: 0.9941\n",
      "Confusion Matrix:\n",
      "[[94  0]\n",
      " [ 1 84]]\n"
     ]
    },
    {
     "name": "stderr",
     "output_type": "stream",
     "text": [
      "/home/ubuntu/miniconda3/lib/python3.13/site-packages/keras/src/layers/core/dense.py:92: UserWarning: Do not pass an `input_shape`/`input_dim` argument to a layer. When using Sequential models, prefer using an `Input(shape)` object as the first layer in the model instead.\n",
      "  super().__init__(activity_regularizer=activity_regularizer, **kwargs)\n",
      "/home/ubuntu/miniconda3/lib/python3.13/site-packages/tensorflow/python/data/ops/structured_function.py:258: UserWarning: Even though the `tf.config.experimental_run_functions_eagerly` option is set, this option does not apply to tf.data functions. To force eager execution of tf.data functions, please use `tf.data.experimental.enable_debug_mode()`.\n",
      "  warnings.warn(\n"
     ]
    },
    {
     "name": "stdout",
     "output_type": "stream",
     "text": [
      "\u001b[1m6/6\u001b[0m \u001b[32m━━━━━━━━━━━━━━━━━━━━\u001b[0m\u001b[37m\u001b[0m \u001b[1m0s\u001b[0m 12ms/step\n",
      "\n",
      "Optimizer: Adagrad\n",
      "Accuracy: 0.9777, Precision: 1.0000, Recall: 0.9529, F1: 0.9759\n",
      "Confusion Matrix:\n",
      "[[94  0]\n",
      " [ 4 81]]\n"
     ]
    },
    {
     "name": "stderr",
     "output_type": "stream",
     "text": [
      "/home/ubuntu/miniconda3/lib/python3.13/site-packages/keras/src/layers/core/dense.py:92: UserWarning: Do not pass an `input_shape`/`input_dim` argument to a layer. When using Sequential models, prefer using an `Input(shape)` object as the first layer in the model instead.\n",
      "  super().__init__(activity_regularizer=activity_regularizer, **kwargs)\n",
      "/home/ubuntu/miniconda3/lib/python3.13/site-packages/tensorflow/python/data/ops/structured_function.py:258: UserWarning: Even though the `tf.config.experimental_run_functions_eagerly` option is set, this option does not apply to tf.data functions. To force eager execution of tf.data functions, please use `tf.data.experimental.enable_debug_mode()`.\n",
      "  warnings.warn(\n"
     ]
    },
    {
     "name": "stdout",
     "output_type": "stream",
     "text": [
      "\u001b[1m6/6\u001b[0m \u001b[32m━━━━━━━━━━━━━━━━━━━━\u001b[0m\u001b[37m\u001b[0m \u001b[1m0s\u001b[0m 11ms/step\n",
      "\n",
      "Optimizer: RMSprop\n",
      "Accuracy: 0.9665, Precision: 1.0000, Recall: 0.9294, F1: 0.9634\n",
      "Confusion Matrix:\n",
      "[[94  0]\n",
      " [ 6 79]]\n"
     ]
    },
    {
     "name": "stderr",
     "output_type": "stream",
     "text": [
      "/home/ubuntu/miniconda3/lib/python3.13/site-packages/keras/src/layers/core/dense.py:92: UserWarning: Do not pass an `input_shape`/`input_dim` argument to a layer. When using Sequential models, prefer using an `Input(shape)` object as the first layer in the model instead.\n",
      "  super().__init__(activity_regularizer=activity_regularizer, **kwargs)\n",
      "/home/ubuntu/miniconda3/lib/python3.13/site-packages/tensorflow/python/data/ops/structured_function.py:258: UserWarning: Even though the `tf.config.experimental_run_functions_eagerly` option is set, this option does not apply to tf.data functions. To force eager execution of tf.data functions, please use `tf.data.experimental.enable_debug_mode()`.\n",
      "  warnings.warn(\n"
     ]
    },
    {
     "name": "stdout",
     "output_type": "stream",
     "text": [
      "\u001b[1m6/6\u001b[0m \u001b[32m━━━━━━━━━━━━━━━━━━━━\u001b[0m\u001b[37m\u001b[0m \u001b[1m0s\u001b[0m 13ms/step\n",
      "\n",
      "Optimizer: Adam\n",
      "Accuracy: 0.9721, Precision: 1.0000, Recall: 0.9412, F1: 0.9697\n",
      "Confusion Matrix:\n",
      "[[94  0]\n",
      " [ 5 80]]\n"
     ]
    }
   ],
   "source": [
    "optimizer_classes = [\n",
    "    (SGD, {}),\n",
    "    (SGD, {\"momentum\":0.9}),\n",
    "    (SGD, {\"momentum\":0.9, \"nesterov\":True}),\n",
    "    (Adagrad, {}),\n",
    "    (RMSprop, {}),\n",
    "    (Adam, {})\n",
    "]\n",
    "\n",
    "results = []\n",
    "\n",
    "for opt_class, params in optimizer_classes:\n",
    "    optimizer_instance = opt_class(**params)  \n",
    "    name = f\"{opt_class.__name__}{params if params else ''}\"\n",
    "    metrics = train_and_evaluate(optimizer_instance, name)\n",
    "    results.append(metrics)\n"
   ]
  },
  {
   "cell_type": "code",
   "execution_count": 20,
   "id": "2ae9d9f2",
   "metadata": {},
   "outputs": [
    {
     "name": "stdout",
     "output_type": "stream",
     "text": [
      "\n",
      "All Optimizers Results:\n",
      "                                Optimizer  Accuracy  Precision    Recall  \\\n",
      "0                                     SGD  0.983240        1.0  0.964706   \n",
      "1                    SGD{'momentum': 0.9}  0.983240        1.0  0.964706   \n",
      "2  SGD{'momentum': 0.9, 'nesterov': True}  0.983240        1.0  0.964706   \n",
      "3                                 Adagrad  0.972067        1.0  0.941176   \n",
      "4                                 RMSprop  1.000000        1.0  1.000000   \n",
      "5                                    Adam  0.983240        1.0  0.964706   \n",
      "\n",
      "         F1  \n",
      "0  0.982036  \n",
      "1  0.982036  \n",
      "2  0.982036  \n",
      "3  0.969697  \n",
      "4  1.000000  \n",
      "5  0.982036  \n"
     ]
    }
   ],
   "source": [
    "results_df = pd.DataFrame(results)\n",
    "print(\"\\nAll Optimizers Results:\")\n",
    "print(results_df)\n",
    "results_df.to_excel(\"optimizer_comparison_results.xlsx\", index=False)"
   ]
  }
 ],
 "metadata": {
  "kernelspec": {
   "display_name": "base",
   "language": "python",
   "name": "python3"
  },
  "language_info": {
   "codemirror_mode": {
    "name": "ipython",
    "version": 3
   },
   "file_extension": ".py",
   "mimetype": "text/x-python",
   "name": "python",
   "nbconvert_exporter": "python",
   "pygments_lexer": "ipython3",
   "version": "3.13.5"
  }
 },
 "nbformat": 4,
 "nbformat_minor": 5
}
